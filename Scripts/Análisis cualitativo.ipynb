{
 "cells": [
  {
   "cell_type": "markdown",
   "id": "fdbb558f-e1c4-49e2-8f33-60b63541e323",
   "metadata": {},
   "source": [
    "## Análisis cualitativo\n",
    "\n",
    "Para realizar un análisis estadístico descriptivo y correlacional entre variables cualitativas, puedes considerar las siguientes técnicas:\r\n",
    "\r\n",
    "1. **Tablas de frecuencia**: Calcula la frecuencia y el porcentaje de cada categoría en cada variable para tener una visión general de la distribución de tus datos.\r\n",
    "\r\n",
    "2. **Gráficos de barras**: Utiliza gráficos de barras para visualizar la frecuencia de cada categoría en cada variable. Esto puede ayudarte a identificar patrones o tendencias en tus datos.\r\n",
    "\r\n",
    "3. **Medidas de resumen**: Calcula medidas de resumen como la moda (valor más frecuente), la mediana y el rango intercuartílico para resumir la distribución de cada variable.\r\n",
    "\r\n",
    "4. **Tablas de contingencia**: Crea tablas de contingencia para analizar la relación entre dos variables cualitativas. Puedes calcular medidas como el coeficiente de contingencia o utilizar pruebas de independencia como la prueba chi-cuadrado.\r\n",
    "\r\n",
    "5. **Análisis de asociación**: Utiliza técnicas como el análisis de correspondencias múltiples (MCA) o el análisis de correspondencias simples (CA) para explorar la asociación entre múltiples variables cualitativas.\r\n",
    "\r\n",
    "6. **Análisis de frecuencia**: Puedes usar análisis de frecuencia para identificar patrones de respuesta en tus variables y categorías más comunes en tus datos.\r\n",
    "\r\n",
    "7. **Visualización de redes**: En el caso de tener muchas variables, puedes considerar visualizar las relaciones entre ellas como una red, donde los nodos representan variables y las aristas representan asociaciones entre ellas.\r\n",
    "\r\n",
    "Es importante tener en cuenta que, debido a la naturaleza cualitativa de tus variables, algunas técnicas estadísticas tradicionales pueden no ser aplicables. Es recomendable consultar con un experto en estadística para elegir las técnicas más adecuadas para tu análisis."
   ]
  },
  {
   "cell_type": "markdown",
   "id": "98ceb30c-13a7-4630-b41f-358e12dfaa5a",
   "metadata": {},
   "source": [
    "### Análisis de frecuencias\n",
    "\n",
    "El análisis de frecuencia es una técnica estadística que se utiliza para analizar la distribución de los valores en una variable cualitativa. Puedes usar el análisis de frecuencia en Python para identificar patrones de respuesta y las categorías más comunes en tus datos cualitativos. Aquí te muestro cómo hacerlo:\r\n",
    "\r\n",
    "```python\r\n",
    "import pandas as pd\r\n",
    "\r\n",
    "# Supongamos que 'df' es tu DataFrame con las variables cualitativas\r\n",
    "\r\n",
    "# Calcular la frecuencia de cada valor en una columna\r\n",
    "frecuencia_columna = df['nombre_columna'].value_counts()\r\n",
    "\r\n",
    "# Calcular el porcentaje de cada valor en una columna\r\n",
    "porcentaje_columna = df['nombre_columna'].value_counts(normalize=True) * 100\r\n",
    "\r\n",
    "# Crear un DataFrame con la frecuencia y el porcentaje de cada valor\r\n",
    "tabla_frecuencia = pd.DataFrame({'Frecuencia': frecuencia_columna, 'Porcentaje (%)': porcentaje_columna})\r\n",
    "print(tabla_frecuencia)\r\n",
    "```\r\n",
    "\r\n",
    "En este ejemplo, `df['nombre_columna'].value_counts()` calcula la frecuencia de cada valor en la columna especificada, y `df['nombre_columna'].value_counts(normalize=True) * 100` calcula el porcentaje de cada valor en la columna. Luego, estos resultados se combinan en un DataFrame `tabla_frecuencia` que muestra la frecuencia y el porcentaje de cada valor en la columna especificada.ualización según tus necesidades."
   ]
  },
  {
   "cell_type": "markdown",
   "id": "0662e89f-d694-4802-b34b-600874dd1233",
   "metadata": {
    "jp-MarkdownHeadingCollapsed": true
   },
   "source": [
    "### Medidas de resumen\n",
    "\n",
    "Para calcular medidas de resumen como la moda, la mediana y el rango intercuartílico para variables categóricas en Python, puedes usar la biblioteca Pandas. Aquí tienes un ejemplo básico:\r\n",
    "\r\n",
    "```python\r\n",
    "import pandas as pd\r\n",
    "\r\n",
    "# Supongamos que 'df' es tu DataFrame con las variables categóricas\r\n",
    "\r\n",
    "# Calcular la moda para cada columna\r\n",
    "moda = df.mode()\r\n",
    "\r\n",
    "# Calcular la mediana para cada columna\r\n",
    "mediana = df.apply(lambda x: x.median())\r\n",
    "\r\n",
    "# Calcular el rango intercuartílico para cada columna\r\n",
    "rango_intercuartilico = df.apply(lambda x: x.quantile(0.75) - x.quantile(0.25))\r\n",
    "\r\n",
    "# Crear un DataFrame con las medidas de resumen\r\n",
    "resumen = pd.DataFrame({'Moda': moda, 'Mediana': mediana, 'Rango Intercuartílico': rango_intercuartilico})\r\n",
    "print(resumen)\r\n",
    "```\r\n",
    "\r\n",
    "En este ejemplo, `df.mode()` devuelve la moda para cada columna, `df.apply(lambda x: x.median())` calcula la mediana para cada columna y `df.apply(lambda x: x.quantile(0.75) - x.quantile(0.25))` calcula el rango intercuartílico para cada columna. Luego, estos resultados se combinan en un DataFrame `resumen` que muestra las medidas de resumen para cada variable categórica.print(resumen)\r\n"
   ]
  },
  {
   "cell_type": "markdown",
   "id": "481a82bb-1e33-4335-8e57-de9ced566a26",
   "metadata": {},
   "source": [
    "### Tablas de contingencia\n",
    "Para crear tablas de contingencia y analizar la relación entre dos variables cualitativas en Python, puedes utilizar la función `crosstab` de Pandas para crear la tabla de contingencia y la función `chi2_contingency` de SciPy para realizar la prueba chi-cuadrado de independencia. Aquí tienes un ejemplo básico:\r\n",
    "\r\n",
    "```python\r\n",
    "import pandas as pd\r\n",
    "import numpy as np\r\n",
    "from scipy.stats import chi2_contingency\r\n",
    "\r\n",
    "# Supongamos que 'df' es tu DataFrame con las dos variables cualitativas 'variable1' y 'variable2'\r\n",
    "\r\n",
    "# Crear tabla de contingencia\r\n",
    "tabla_contingencia = pd.crosstab(df['variable1'], df['variable2'])\r\n",
    "\r\n",
    "# Calcular chi-cuadrado y p-valor\r\n",
    "chi2, p_valor, _, _ = chi2_contingency(tabla_contingencia)\r\n",
    "\r\n",
    "# Imprimir tabla de contingencia\r\n",
    "print(\"Tabla de contingencia:\")\r\n",
    "print(tabla_contingencia)\r\n",
    "print(\"\\n\")\r\n",
    "\r\n",
    "# Imprimir resultado de la prueba de chi-cuadrado\r\n",
    "print(\"Resultados de la prueba de chi-cuadrado:\")\r\n",
    "print(f\"Chi-cuadrado: {chi2}\")\r\n",
    "print(f\"P-valor: {p_valor}\")\r\n",
    "```\r\n",
    "\r\n",
    "En este ejemplo, `pd.crosstab(df['variable1'], df['variable2'])` crea la tabla de contingencia entre las variables 'variable1' y 'variable2'. Luego, `chi2_contingency(tabla_contingencia)` calcula el chi-cuadrado y el p-valor para determinar si hay una relación significativa entre las dos variables."
   ]
  },
  {
   "cell_type": "markdown",
   "id": "e368eaa4-0c90-4528-8d3d-84e58b5b22f1",
   "metadata": {},
   "source": [
    "### Análisis asociativo\n",
    "El análisis de asociación es una técnica utilizada en estadística para explorar las relaciones entre múltiples variables cualitativas. En el contexto de tu base de datos con 233 variables cualitativas, el análisis de asociación puede ayudarte a identificar patrones o relaciones entre estas variables.\r\n",
    "\r\n",
    "El análisis de correspondencias es una técnica específica dentro del análisis de asociación que se utiliza cuando se tienen múltiples variables categóricas. Hay dos tipos principales de análisis de correspondencias:\r\n",
    "\r\n",
    "1. **Análisis de correspondencias simples (CA)**: Es una técnica que se utiliza para analizar la relación entre dos variables categóricas. Muestra la relación entre las categorías de las variables en un espacio bidimensional o tridimensional, lo que facilita la visualización de la asociación entre las variables.\r\n",
    "\r\n",
    "2. **Análisis de correspondencias múltiples (MCA)**: Es una extensión del CA que se utiliza cuando se tienen más de dos variables categóricas. Muestra la asociación entre todas las variables en un espacio de mayor dimensión, lo que permite analizar patrones complejos de asociación entre las variables.\r\n",
    "\r\n",
    "En resumen, el análisis de asociación, especialmente el análisis de correspondencias, puede ser útil para explorar y comprender las relaciones entre las variables cualitativas en tu base de datos. Te ayuda a identificar grupos de variables que están asociadas entre sí, lo que puede proporcionarte información importante sobre la estructura de tus datos."
   ]
  },
  {
   "cell_type": "markdown",
   "id": "ff831553-1da5-403a-9366-94c6b5cf019f",
   "metadata": {},
   "source": [
    "### Visualización de redes\n",
    "\n",
    "Para visualizar las relaciones entre muchas variables como una red en Python, puedes usar la biblioteca NetworkX para crear el grafo y matplotlib para visualizarlo. Aquí tienes un ejemplo básico:\r\n",
    "\r\n",
    "```python\r\n",
    "import pandas as pd\r\n",
    "import networkx as nx\r\n",
    "import matplotlib.pyplot as plt\r\n",
    "\r\n",
    "# Supongamos que 'df' es tu DataFrame con las variables cualitativas\r\n",
    "\r\n",
    "# Crear un grafo vacío\r\n",
    "G = nx.Graph()\r\n",
    "\r\n",
    "# Agregar nodos al grafo (variables)\r\n",
    "for columna in df.columns:\r\n",
    "    G.add_node(columna)\r\n",
    "\r\n",
    "# Agregar aristas al grafo (asociaciones entre variables)\r\n",
    "for columna1 in df.columns:\r\n",
    "    for columna2 in df.columns:\r\n",
    "        if columna1 != columna2:\r\n",
    "            # Calcula alguna métrica de asociación entre las variables, por ejemplo, la correlación\r\n",
    "            asociacion = df[columna1].corr(df[columna2])\r\n",
    "            # Agrega una arista si la asociación es mayor que un umbral\r\n",
    "            if asociacion > 0.5:  # Puedes ajustar este umbral según tus necesidades\r\n",
    "                G.add_edge(columna1, columna2, weight=asociacion)\r\n",
    "\r\n",
    "# Visualizar el grafo\r\n",
    "plt.figure(figsize=(12, 8))\r\n",
    "nx.draw(G, with_labels=True, node_size=2000, font_size=10, edge_color='gray')\r\n",
    "plt.title('Red de asociaciones entre variables')\r\n",
    "plt.show()\r\n",
    "```\r\n",
    "\r\n",
    "En este ejemplo, se crea un grafo donde cada nodo representa una variable y las aristas representan asociaciones entre variables. Puedes ajustar el umbral de asociación (`asociacion > 0.5`) y otras opciones de visualización según tus necesidades."
   ]
  },
  {
   "cell_type": "markdown",
   "id": "44d1778f-56e7-4527-8cb1-43bd122fd8fa",
   "metadata": {},
   "source": [
    "## Gráficos"
   ]
  },
  {
   "cell_type": "markdown",
   "id": "396f4dfe-e9fb-4b44-9d3c-8aa873cd611a",
   "metadata": {},
   "source": [
    "### Tipo de gráficos para representar proporciones (porcentajes)\n",
    "\n",
    "Para representar porcentajes, algunos de los gráficos más efectivos incluyen:\r\n",
    "\r\n",
    "1. **Gráfico de barras horizontales**: Útil para comparar porcentajes entre diferentes categorías. Cada barra representa una categoría y la longitud de la barra muestra el porcentaje.\r\n",
    "\r\n",
    "2. **Gráfico de torta (o pie)**: Muestra la proporción de cada categoría como un sector de un círculo. Es bueno para mostrar la contribución relativa de cada categoría al total.\r\n",
    "\r\n",
    "3. **Gráfico de barras apiladas**: Muestra la composición de un total mediante barras apiladas, donde cada segmento representa una categoría y la altura total de la barra representa el total.\r\n",
    "\r\n",
    "4. **Diagrama de sectores (o dona)**: Similar al gráfico de torta, pero con la opción de tener múltiples anillos concéntricos, lo que permite comparar porcentajes en diferentes niveles.\r\n",
    "\r\n",
    "5. **Gráfico de área apilada**: Similar al gráfico de barras apiladas pero con áreas en lugar de barras, lo que puede ayudar a visualizar cambios en la composición a lo largo del tiempo o entre grupos.\r\n",
    "\r\n",
    "La elección del gráfico depende del contexto y de lo que quieras resaltar. Por ejemplo, si quieres comparar porcentajes entre diferentes grupos, un gráfico de barras horizontales puede ser más efectivo. Si quieres mostrar la contribución relativa de cada categoría al total, un gráfico de torta puede ser m\n",
    "\n",
    "Aquí te dejo un ejemplo de cómo crear cada tipo de gráfico en Python utilizando Matplotlib y Pandas:\r\n",
    "\r\n",
    "```python\r\n",
    "import pandas as pd\r\n",
    "import matplotlib.pyplot as plt\r\n",
    "\r\n",
    "# Ejemplo de datos\r\n",
    "data = {'Categoría': ['A', 'B', 'C', 'D'],\r\n",
    "        'Porcentaje': [25, 35, 20, 20]}\r\n",
    "\r\n",
    "df = pd.DataFrame(data)\r\n",
    "\r\n",
    "# Gráfico de barras horizontales\r\n",
    "plt.figure(figsize=(8, 4))\r\n",
    "plt.barh(df['Categoría'], df['Porcentaje'], color='skyblue')\r\n",
    "plt.xlabel('Porcentaje (%)')\r\n",
    "plt.ylabel('Categoría')\r\n",
    "plt.title('Gráfico de barras horizontales')\r\n",
    "plt.shopay\r\n",
    "# Gráfico de torta\r\n",
    "plt.figure(figsize=(6, 6))\r\n",
    "plt.pie(df['Porcentaje'], labels=df['Categoría'], autopct='%1.1f%%', startangle=90, colors=['lightblue', 'lightgreen', 'lightcoral', 'lightskyblue'])\r\n",
    "plt.axis('equal')\r\n",
    "plt.title('Gráfico de torta')\r\n",
    "plt.show()\r\n",
    "\r\n",
    "# Gráfico de barras apiladas\r\n",
    "plt.figure(figsize=(8, 4))\r\n",
    "bottom = 0\r\n",
    "for i, row in df.iterrows():\r\n",
    "    plt.bar(0, row['Porcentaje'], bottom=bottom, label=row['Categoría'])\r\n",
    "    bottom += row['Porcentaje']\r\n",
    "plt.ylabel('Porcentaje (%)')\r\n",
    "plt.title('Gráfico de barras apiladas')\r\n",
    "plt.legend()\r\n",
    "plt.show()\r\n",
    "\r\n",
    "# Diagrama de sectores\r\n",
    "plt.figure(figsize=(6, 6))\r\n",
    "plt.pie(df['Porcentaje'], labels=df['Categoría'], autopct='%1.1f%%', startangle=90, colors=['lightblue', 'lightgreen', 'lightcoral', 'lightskyblue'])\r\n",
    "plt.axis('equal')\r\n",
    "plt.title('Diagrama de sectores')\r\n",
    "plt.show()\r\n",
    "\r\n",
    "# Gráfico de área apilada\r\n",
    "plt.figure(figsize=(8, 4))\r\n",
    "plt.stackplot([0, 1, 2, 3], df['Porcentaje'], labels=df['Categoría'], colors=['lightblue', 'lightgreen', 'lightcoral', 'lightskyblue'])\r\n",
    "plt.xlabel('Categoría')\r\n",
    "plt.ylabel('Porcentaje (%)')\r\n",
    "plt.title('Gráfico de área apilada')\r\n",
    "plt.legend(loc='upper left')\r\n",
    "plt.show()\r\n",
    "```\r\n",
    "\r\n",
    "Estos ejemplos utilizan un conjunto de datos ficticio con cuatro categorías y sus respectivos porcentajes. Puedes ajustar los datos y el formato de los gráficos según tus necesidades.ás adecuado."
   ]
  },
  {
   "cell_type": "markdown",
   "id": "6fd9cd81-7593-4431-a420-66d22a4f0bba",
   "metadata": {},
   "source": [
    "**Prepresentación de una variable cambiando el nombre, dado un caractér**"
   ]
  },
  {
   "cell_type": "markdown",
   "id": "807506c4-a3f7-49a7-861d-79c7836ae93f",
   "metadata": {},
   "source": [
    "```python\n",
    "df.iloc[:, 61].value_counts().rename_axis(re.search(r'\\[(.*?)\\]', df.columns[61]).group(1)).reset_index(name='Total')\n",
    "```"
   ]
  },
  {
   "cell_type": "markdown",
   "id": "7902f4b4-4dd7-4a31-b638-812d894b59d6",
   "metadata": {},
   "source": [
    "Devuelve una tabla, tipo DF, donde el total lo almacena en una columna y las respuestas en otra. Lo interesante es que el nombre de la columna se cambia, con base en un caractér delimitador, en este caso se devuelve el nombre que está entre corchetes \"[ ]\"."
   ]
  },
  {
   "cell_type": "markdown",
   "id": "13d389ef-e17e-43b5-a618-a2a01482ae55",
   "metadata": {},
   "source": [
    "**Método delimitador de acuerdo a un caracter, para la homologación de respuestas**"
   ]
  },
  {
   "cell_type": "markdown",
   "id": "a9fff45d-8e92-415d-ba88-9bdea4395cf3",
   "metadata": {},
   "source": [
    "```python\n",
    "# Como ejercicio\n",
    "import re\n",
    "\n",
    "# Expresión regular para encontrar el primer elemento antes del punto y coma\n",
    "pattern = r'^([^;]+)'\n",
    "#pattern = r'^([\\w\\s-]+)' # Esto devuelve la cadena de texto antes de los paréntesis\n",
    "\n",
    "# Lista de respuestas\n",
    "respuestas = [\n",
    "    'LSD (ácido lisérgico);Psilocibina (hongos mágicos)',\n",
    "    'Ayahuasca (mezcla de DMT y otras plantas);5-Me5-MeO-DMT',\n",
    "    'Mescalina (Peyote y cactus San Pedro)',\n",
    "    'MDMA (éxtasis);Ibogaína'\n",
    "]\n",
    "\n",
    "# Iterar sobre las respuestas y obtener el primer elemento antes del punto y coma\n",
    "for i in range(len(respuestas)):\n",
    "    respuesta = respuestas[i]\n",
    "    match = re.search(pattern, respuesta)\n",
    "    if match:\n",
    "        primer_elemento = match.group(1)\n",
    "        respuestas[i] = primer_elemento\n",
    "\n",
    "print(respuestas)\n",
    "\n",
    "```"
   ]
  },
  {
   "cell_type": "markdown",
   "id": "6a82120b-1e37-4a86-ac82-61b12628ca01",
   "metadata": {},
   "source": [
    "```python\n",
    "# Como ejercicio para sobreescribir el DF SÓLO SI TUVIERAMOS CADA UNA DE LAS COMBINACIONES EN LA VARIABLE \"RESPUESTA\", PERO NO ES ASÍ\n",
    "import re\n",
    "\n",
    "# Expresión regular para encontrar el primer elemento antes del punto y coma\n",
    "pattern = r'^([^;]+)'\n",
    "#pattern = r'^([\\w\\s-]+)' # Esto devuelve la cadena de texto antes de los paréntesis\n",
    "\n",
    "# Iterar sobre las filas y obtener el primer elemento antes del punto y coma\n",
    "for i in range(len(df_1_prueba)): #Probamos con el elemento de prueba para no arruinar la base\n",
    "    respuesta = df_1_prueba.at[i, '¿En qué sustancia(s) psicodélica(s) se basarán tus respuestas? ']\n",
    "    match = re.search(pattern, respuesta)\n",
    "    if match:\n",
    "        primer_elemento = match.group(1)\n",
    "        df_1_prueba.at[i, '¿En qué sustancia(s) psicodélica(s) se basarán tus respuestas? '] = primer_elemento\n",
    "\n",
    "```"
   ]
  },
  {
   "cell_type": "markdown",
   "id": "d6c0a360-6dbb-4d5d-a4cd-661bc7d7e5b2",
   "metadata": {},
   "source": [
    "**Función que se aplica sin tener la combinación de cada una de las respuestas**\n",
    "\n",
    "```python\n",
    "# Función para obtener solo la primera sustancia de la columna basadas en un caracter delimitador\n",
    "def obtener_primera_sustancia(respuesta):\n",
    "    return respuesta.split(';')[0] #Caracter delimitador \";\", devolvemos sólo el primer elemento, anterior a este caracter. Por eso el [0]\n",
    "\n",
    "# Aplicar la función a la columna\n",
    "df_1_prueba['¿En qué sustancia(s) psicodélica(s) se basarán tus respuestas? '] = df_1_prueba['¿En qué sustancia(s) psicodélica(s) se basarán tus respuestas? '].apply(lambda x: obtener_primera_sustancia(x))\n",
    "\n",
    "# Mostrar el resultado\n",
    "print(df_1_prueba)\n",
    "\n",
    "```"
   ]
  },
  {
   "cell_type": "markdown",
   "id": "eef3ba76-2f78-4c21-9b6c-cf2b89a6bc25",
   "metadata": {},
   "source": [
    "Esta función devuelve el primer elemento del caracter delimitador. Aplicandolo sobre una variable, cambia los valores combinados por este delimitador a un solo valor, el primero dentro de la combinación."
   ]
  },
  {
   "cell_type": "markdown",
   "id": "3ab48f43-26ab-40cd-8200-62dcba10cec7",
   "metadata": {},
   "source": [
    "**Graficas con títulos ajustados a un caracter determinado**"
   ]
  },
  {
   "cell_type": "markdown",
   "id": "5368789c-862d-49a2-b024-b632bc807155",
   "metadata": {},
   "source": [
    "Con este código, designamos que los títulos de nuestros gráficos sólo contemplen lo que se encuentra dentro de los corchetes \"[ ]\"\n",
    "\n",
    "```python\n",
    "import re  # Importar el módulo de expresiones regulares\r\n",
    "\r\n",
    "# Iterar sobre las columnas y graficar\r\n",
    "for col in df.columns[35:93]:  # Iterar sobre las columnas seleccionadas del DataFrame\r\n",
    "    # Extraer el texto entre corchetes de cada nombre de columna\r\n",
    "    match = re.search(r'\\[(.*?)\\]', col)  # Buscar el patrón de texto entre corchetes en el nombre de la columna\r\n",
    "    if match:  # Si se encontró un texto entre corchetes\r\n",
    "        titulo = match.group(1)  # Guardar el texto encontrado como título\r\n",
    "    else:  # Si no se encontró texto entre corchetes\r\n",
    "        titulo = col  # Usar el nombre completo de la columna como título\r\n",
    "\r\n",
    "    # Crear el gráfico\r\n",
    "    plt.figure(figsize=(8, 6))  # Crear una figura con tamaño específico\r\n",
    "    sns.countplot(data=df, y=col, order=df[col].value_counts().index)  # Crear un gráfico de conteo\r\n",
    "    plt.title(f'{titulo}', fontweight='bold')  # Establecer el título del gráfico\r\n",
    "    plt.xlabel('Frecuencia', fontweight='bold')  # Etiquetar el eje x\r\n",
    "    plt.ylabel('Respuestas', fontweight='bold')  # Etiquetar el eje y\r\n",
    "    plt.tight_layout()  # Ajustar el diseño del gráfico\r\n",
    "\r\n",
    "# Mostrar los gráficos\r\n",
    "plt.show()  # Mostrar todos ls gráficos creados\r\n",
    "\n",
    "\n",
    "```"
   ]
  },
  {
   "cell_type": "markdown",
   "id": "cb64aed9-4649-4afb-9f5a-d23ce1559718",
   "metadata": {},
   "source": [
    "**Librerías**"
   ]
  },
  {
   "cell_type": "code",
   "execution_count": 1,
   "id": "072b4855-bb6c-4867-923a-72ffd5e5270b",
   "metadata": {},
   "outputs": [],
   "source": [
    "#Plotly\n",
    "#pip install plotly==5.11.0"
   ]
  },
  {
   "cell_type": "code",
   "execution_count": 2,
   "id": "ce7cf340-8e24-402b-a0dd-8ddd326dbc5f",
   "metadata": {},
   "outputs": [],
   "source": [
    "#Pygwalker\n",
    "#conda install -c conda-forge pygwalker\n",
    "#pip install ipywidgets==8.0.4\n",
    "#pip install ipywidgets --upgrade\n",
    "#gwalker = pyg.walk(data)"
   ]
  },
  {
   "cell_type": "code",
   "execution_count": 3,
   "id": "6303548c-ce5d-41e0-aa03-3b0b247085f7",
   "metadata": {},
   "outputs": [],
   "source": [
    "#YData.Profiling\n",
    "#!pip install ydata-profiling\n",
    "#from ydata_profiling import ProfileReport\n",
    "#ProfileReport(data)"
   ]
  },
  {
   "cell_type": "code",
   "execution_count": 4,
   "id": "752ebb49-6d8c-4f38-97f2-97d3563e3275",
   "metadata": {},
   "outputs": [],
   "source": [
    "#D-Tale\n",
    "#!pip install dtable\n",
    "#import dtable\n",
    "#Para usarlo en google colab\n",
    "#import dtable.app as dtable_app\n",
    "# dtable_app.USE_COLAB = True\n",
    "# Utilizar librería\n",
    "# dtable.show(data, host='localhost')"
   ]
  },
  {
   "cell_type": "code",
   "execution_count": 5,
   "id": "ac6d7f80-33cc-4caf-ab63-67626dd0c51f",
   "metadata": {},
   "outputs": [],
   "source": [
    "# SweetViz\n",
    "#!pip install sweetviz\n",
    "#import sweetviz as sv\n",
    "# report= sv.analyze(data)\n",
    "# report.show_html()"
   ]
  },
  {
   "cell_type": "code",
   "execution_count": 6,
   "id": "d50c5a3c-12dd-42d2-9c7d-549667b6a7f9",
   "metadata": {},
   "outputs": [],
   "source": [
    "# Missingno\n",
    "#!pip install missingno\n",
    "#import missingno as msno\n",
    "#msno.bar(data)\n",
    "#msno.matrix(data)\n",
    "#msno.dendrogram(sata)\n",
    "#msno.headmap(data)"
   ]
  },
  {
   "cell_type": "code",
   "execution_count": 7,
   "id": "596331b3-709c-4fca-bde3-fb4f29ba285a",
   "metadata": {},
   "outputs": [],
   "source": [
    "# Sketch\n",
    "#!pip install sketch\n",
    "#import sketch\n",
    "#data.sketch.ask('PRGUNTA EN INGLÉS') #Para que devuelva un resultado deseado\n",
    "#data.sketch.howto('PREGUNTAR CÓMO SE HACE ALGO') #Devuelve el código de cómo se hace un gráfico en python (también se pregunta en inglés)"
   ]
  }
 ],
 "metadata": {
  "kernelspec": {
   "display_name": "Python 3 (ipykernel)",
   "language": "python",
   "name": "python3"
  },
  "language_info": {
   "codemirror_mode": {
    "name": "ipython",
    "version": 3
   },
   "file_extension": ".py",
   "mimetype": "text/x-python",
   "name": "python",
   "nbconvert_exporter": "python",
   "pygments_lexer": "ipython3",
   "version": "3.11.7"
  }
 },
 "nbformat": 4,
 "nbformat_minor": 5
}
